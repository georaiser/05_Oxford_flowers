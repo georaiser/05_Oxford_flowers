{
 "cells": [
  {
   "cell_type": "markdown",
   "id": "2df20c5d",
   "metadata": {},
   "source": [
    "https://www.kaggle.com/competitions/oxford-102-flower-pytorch"
   ]
  },
  {
   "cell_type": "code",
   "execution_count": 1,
   "id": "a6b07016",
   "metadata": {},
   "outputs": [],
   "source": [
    "import os\n",
    "import pandas as pd\n",
    "import numpy as np\n",
    "import matplotlib.pyplot as plt\n",
    "import json\n",
    "import cv2\n",
    "import random\n",
    "from skimage.io import imread\n",
    "from sklearn.utils import class_weight\n",
    "from collections import Counter\n",
    "import time"
   ]
  },
  {
   "cell_type": "code",
   "execution_count": null,
   "id": "c53c8132",
   "metadata": {},
   "outputs": [],
   "source": [
    "# Tensorflow libraries and modules\n",
    "import itertools\n",
    "import tensorflow as tf \n",
    "from tensorflow.keras.layers import Conv2D, MaxPooling2D, Dropout, Flatten, Dense, GlobalAveragePooling2D\n",
    "from tensorflow.keras.layers import BatchNormalization\n",
    "from tensorflow.keras.preprocessing.image import ImageDataGenerator\n",
    "from tensorflow.keras.callbacks import ModelCheckpoint, EarlyStopping\n",
    "from tensorflow.keras import models, optimizers, regularizers"
   ]
  },
  {
   "cell_type": "code",
   "execution_count": null,
   "id": "62ef5367",
   "metadata": {},
   "outputs": [],
   "source": [
    "import warnings\n",
    "warnings.filterwarnings('ignore')"
   ]
  },
  {
   "cell_type": "code",
   "execution_count": null,
   "id": "44afc25a",
   "metadata": {},
   "outputs": [],
   "source": [
    "# path dataset\n",
    "path_train='flower_data/train/'\n",
    "path_val='flower_data/valid/'\n",
    "path_test='flower_data/test/'"
   ]
  },
  {
   "cell_type": "code",
   "execution_count": null,
   "id": "ceb1d650",
   "metadata": {},
   "outputs": [],
   "source": [
    "# GPU\n",
    "#os.environ[\"CUDA_VISIBLE_DEVICES\"] = \"-1\""
   ]
  },
  {
   "cell_type": "code",
   "execution_count": null,
   "id": "9e1db44e",
   "metadata": {
    "scrolled": true
   },
   "outputs": [],
   "source": [
    "num_cat=[]\n",
    "for x in os.listdir(path_train):\n",
    "    num_cat.append(x)\n",
    "num_cat[0:5]"
   ]
  },
  {
   "cell_type": "code",
   "execution_count": null,
   "id": "d44b48e3",
   "metadata": {},
   "outputs": [],
   "source": [
    "len(set(num_cat))"
   ]
  },
  {
   "cell_type": "code",
   "execution_count": null,
   "id": "11977a6a",
   "metadata": {},
   "outputs": [],
   "source": [
    "# Opening JSON file\n",
    "f = open('flower_data/cat_to_name.json')\n",
    "# json to dictionary\n",
    "data_class = json.load(f)\n",
    "# Closing file\n",
    "f.close()"
   ]
  },
  {
   "cell_type": "code",
   "execution_count": null,
   "id": "d70892f4",
   "metadata": {},
   "outputs": [],
   "source": [
    "# dictionary classes\n",
    "data_class['21']"
   ]
  },
  {
   "cell_type": "code",
   "execution_count": null,
   "id": "a4c63624",
   "metadata": {},
   "outputs": [],
   "source": [
    "# make dataframe\n",
    "train_folder_df=pd.DataFrame([data_class]).T\n",
    "train_folder_df.columns=['class']"
   ]
  },
  {
   "cell_type": "code",
   "execution_count": null,
   "id": "872ced8d",
   "metadata": {},
   "outputs": [],
   "source": [
    "train_folder_df.head(3)"
   ]
  },
  {
   "cell_type": "code",
   "execution_count": null,
   "id": "8089bda4",
   "metadata": {},
   "outputs": [],
   "source": [
    "# plot some image examples\n",
    "plt.figure(figsize = (19, 8))\n",
    "i=1\n",
    "for cl in range(12):\n",
    "    im=train_folder_df.sample(n=1)\n",
    "    ax=plt.subplot(2,6,i)\n",
    "    path=path_train+im.index[0]+'/'\n",
    "    #img = cv2.imread(path+random.choice(os.listdir(path)))\n",
    "    img = imread(path+random.choice(os.listdir(path)))\n",
    "    plt.imshow(img)\n",
    "    plt.title(im['class'][0])\n",
    "    i+=1\n",
    "    "
   ]
  },
  {
   "cell_type": "code",
   "execution_count": null,
   "id": "81df8cba",
   "metadata": {},
   "outputs": [],
   "source": [
    "# counter (checking balance data classes)\n",
    "counter={}\n",
    "for i, row in train_folder_df.iterrows():\n",
    "    count_={row[0]:len(os.listdir(path_train+i[0]))}\n",
    "    counter.update(count_)\n",
    "    \n",
    "counter_df=pd.DataFrame([counter]).T.reset_index()  \n",
    "counter_df.columns=['class','count']\n",
    "counter_df['class_num']=train_folder_df.index\n",
    "counter_df.head(3)"
   ]
  },
  {
   "cell_type": "code",
   "execution_count": null,
   "id": "84aff1a1",
   "metadata": {},
   "outputs": [],
   "source": [
    "# min max database flower class\n",
    "counter_df.describe().T[['min', 'max']]"
   ]
  },
  {
   "cell_type": "code",
   "execution_count": null,
   "id": "797311d6",
   "metadata": {},
   "outputs": [],
   "source": [
    "plt.figure(figsize = (19, 2))\n",
    "plt.plot(counter_df.index, counter_df['count']);"
   ]
  },
  {
   "cell_type": "markdown",
   "id": "f2265824",
   "metadata": {},
   "source": [
    "## Convolutional Neural Network (CNN) TensorFlow"
   ]
  },
  {
   "cell_type": "code",
   "execution_count": null,
   "id": "c88c1ce9",
   "metadata": {},
   "outputs": [],
   "source": [
    "# target_size\n",
    "target_size = (32,32)\n",
    "# number of subprocesses data loading\n",
    "num_workers = 4\n",
    "# samples per batch to load\n",
    "batch_size = 32\n",
    "# input_shape\n",
    "input_shape = (target_size[0],target_size[1], 3)"
   ]
  },
  {
   "cell_type": "markdown",
   "id": "a3a03618",
   "metadata": {},
   "source": [
    "### Data Generator"
   ]
  },
  {
   "cell_type": "code",
   "execution_count": null,
   "id": "d22595bc",
   "metadata": {},
   "outputs": [],
   "source": [
    "# Datagen and augmentation\n",
    "train_datagen = ImageDataGenerator(\n",
    "    rescale=1./255,\n",
    "    rotation_range=20,\n",
    "    width_shift_range=0.2,\n",
    "    height_shift_range=0.2,\n",
    "    shear_range=0.2,\n",
    "    zoom_range=0.2,\n",
    "    horizontal_flip=True,\n",
    "    preprocessing_function=None)\n",
    "\n",
    "validation_datagen = ImageDataGenerator(rescale=1./255)\n",
    "\n",
    "test_datagen = ImageDataGenerator(rescale=1./255)"
   ]
  },
  {
   "cell_type": "code",
   "execution_count": null,
   "id": "d23c759f",
   "metadata": {},
   "outputs": [],
   "source": [
    "# Train / Validation - Data Generator\n",
    "train_generator = train_datagen.flow_from_directory(path_train,\n",
    "                                 target_size=target_size,\n",
    "                                 batch_size=batch_size,\n",
    "                                 class_mode = 'categorical')\n",
    "\n",
    "validation_generator = validation_datagen.flow_from_directory(path_val,\n",
    "                                 target_size=target_size,\n",
    "                                 batch_size=batch_size,\n",
    "                                 class_mode = 'categorical')\n",
    "\n",
    "# Test \n",
    "test_generator = test_datagen.flow_from_directory(path_test,\n",
    "                                 target_size=target_size,\n",
    "                                 shuffle = False,\n",
    "                                 batch_size=batch_size,\n",
    "                                 class_mode = 'categorical')"
   ]
  },
  {
   "cell_type": "code",
   "execution_count": null,
   "id": "bf663acf",
   "metadata": {},
   "outputs": [],
   "source": [
    "all_values_class=[]\n",
    "for i, row in counter_df.iterrows():\n",
    "    for j in range(row[1]):\n",
    "        all_values_class.append(row[2])\n",
    "len(all_values_class)"
   ]
  },
  {
   "cell_type": "code",
   "execution_count": null,
   "id": "07394d83",
   "metadata": {},
   "outputs": [],
   "source": [
    "# class_weight - Unbalanced Data                       \n",
    "#class_weights = dict(zip(np.unique(all_values_class), class_weight.compute_class_weight('balanced', np.unique(all_values_class),all_values_class)))\n",
    "class_weights = None"
   ]
  },
  {
   "cell_type": "code",
   "execution_count": null,
   "id": "813949a4",
   "metadata": {},
   "outputs": [],
   "source": [
    "# Define optimizer\n",
    "optimizer = optimizers.Adam(lr=0.001, beta_1=0.9, beta_2=0.999)\n",
    "# callbacks\n",
    "early_stopping = tf.keras.callbacks.EarlyStopping(monitor='val_loss',patience=6)\n",
    "lr = tf.keras.callbacks.ReduceLROnPlateau(monitor='val_loss',patience=4) "
   ]
  },
  {
   "cell_type": "code",
   "execution_count": null,
   "id": "e899fe19",
   "metadata": {},
   "outputs": [],
   "source": [
    "# plot output function\n",
    "def plot_model_output(history, name='model'):\n",
    "    \n",
    "    history_dict = history.history\n",
    "    loss_values = history_dict['loss']\n",
    "    val_loss_values = history_dict['val_loss']\n",
    "    accuracy_values = history_dict['accuracy']\n",
    "    val_accuracy_values = history_dict['val_accuracy']\n",
    "    \n",
    "    fig = plt.figure(figsize=(19,3))\n",
    "    \n",
    "    plt.subplot(1, 2, 1)\n",
    "    plt.suptitle(name, fontsize=18)\n",
    "    plt.title('loss')\n",
    "    epoch = range(1,len(loss_values)+1)\n",
    "    plt.plot(epoch,loss_values, '--',label='loss')\n",
    "    plt.plot(epoch,val_loss_values, '--',label='val_loss')\n",
    "    plt.legend()\n",
    "    plt.xlabel('epoch')\n",
    "    plt.ylabel('loss')\n",
    "    \n",
    "    plt.subplot(1, 2, 2)\n",
    "    plt.suptitle(name, fontsize=18)\n",
    "    plt.title('accuracy')\n",
    "    epoch = range(1,len(loss_values)+1)\n",
    "    plt.plot(epoch,accuracy_values, '--',label='accuracy')\n",
    "    plt.plot(epoch,val_accuracy_values, '--',label='val_accuracy')\n",
    "    plt.legend()\n",
    "    plt.xlabel('epoch')\n",
    "    plt.ylabel('accuracy')\n",
    "    plt.show()"
   ]
  },
  {
   "cell_type": "markdown",
   "id": "a097652a",
   "metadata": {},
   "source": [
    "### Model"
   ]
  },
  {
   "cell_type": "code",
   "execution_count": null,
   "id": "987e009d",
   "metadata": {},
   "outputs": [],
   "source": [
    "# Model VGG19\n",
    "model_vgg19 = tf.keras.applications.VGG19(\n",
    "    weights='imagenet',\n",
    "    include_top = False,\n",
    "    input_shape = input_shape)\n",
    "\n",
    "for layer in model_vgg19.layers:\n",
    "    layer.trainable=False\n",
    "    \n",
    "x = model_vgg19.output\n",
    "x = Flatten()(x)\n",
    "x = Dense(128,activation='relu')(x)\n",
    "x = Dense(64,activation='relu')(x)\n",
    "x = Dropout(0.2)(x)\n",
    "\n",
    "# output layer\n",
    "output_vgg19 = Dense(102, activation='softmax')(x)\n",
    "# model\n",
    "model_vgg19 = tf.keras.Model(inputs=model_vgg19.input, outputs=output_vgg19)\n",
    "# name\n",
    "model_vgg19._name = \"model_vgg19\"\n",
    "# summary\n",
    "#model_vgg19.summary()"
   ]
  },
  {
   "cell_type": "code",
   "execution_count": null,
   "id": "58629614",
   "metadata": {},
   "outputs": [],
   "source": [
    "if os.path.exists('models/'):\n",
    "    pass\n",
    "else:\n",
    "    os.makedirs('models/')"
   ]
  },
  {
   "cell_type": "code",
   "execution_count": null,
   "id": "51fbc2c4",
   "metadata": {},
   "outputs": [],
   "source": [
    "# run models fuction\n",
    "\n",
    "filepath=os.getcwd()+'/models/'\n",
    "def run_model(model):\n",
    "    \n",
    "    # save best model (callback)\n",
    "    modelCheckpoint = ModelCheckpoint(filepath+'{}.h5'.format(model.name), save_best_only = True)\n",
    "    \n",
    "    # Compile the model\n",
    "    model.compile(optimizer = optimizer , loss = \"categorical_crossentropy\", metrics=[\"accuracy\"])\n",
    "    \n",
    "    # Fit the model\n",
    "    history = model.fit_generator(generator=train_generator,\n",
    "                              epochs = epochs,\n",
    "                              #steps_per_epoch=300,\n",
    "                              callbacks=[early_stopping, lr, modelCheckpoint],\n",
    "                              class_weight=class_weights,\n",
    "                              validation_data = validation_generator)\n",
    "    \n",
    "    print(history.history.keys())\n",
    "    \n",
    "    return model, history"
   ]
  },
  {
   "cell_type": "code",
   "execution_count": null,
   "id": "ed9244a4",
   "metadata": {},
   "outputs": [],
   "source": [
    "# Run model\n",
    "epochs=10\n",
    "max_accuracy=[]\n",
    "custom_model, history_custom = run_model(model_vgg19)\n",
    "max_accuracy.append(('{}.h5'.format(custom_model.name),np.max(history_custom.history['accuracy'])))"
   ]
  },
  {
   "cell_type": "code",
   "execution_count": null,
   "id": "5b65d094",
   "metadata": {},
   "outputs": [],
   "source": [
    "# plot model ouputs\n",
    "plot_model_output(history_custom, 'custom_model')"
   ]
  },
  {
   "cell_type": "code",
   "execution_count": null,
   "id": "90e139d4",
   "metadata": {},
   "outputs": [],
   "source": []
  }
 ],
 "metadata": {
  "kernelspec": {
   "display_name": "Python 3 (ipykernel)",
   "language": "python",
   "name": "python3"
  },
  "language_info": {
   "codemirror_mode": {
    "name": "ipython",
    "version": 3
   },
   "file_extension": ".py",
   "mimetype": "text/x-python",
   "name": "python",
   "nbconvert_exporter": "python",
   "pygments_lexer": "ipython3",
   "version": "3.10.10"
  }
 },
 "nbformat": 4,
 "nbformat_minor": 5
}
